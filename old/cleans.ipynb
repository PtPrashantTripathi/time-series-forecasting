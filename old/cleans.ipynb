{
 "cells": [
  {
   "cell_type": "code",
   "execution_count": 27,
   "metadata": {},
   "outputs": [],
   "source": [
    "import json\n",
    "from datetime import datetime,timedelta\n",
    "list = []\n",
    "with open('./raw.json') as data_file:\n",
    "    data = json.load(data_file)\n",
    "for index,item in enumerate(data):\n",
    "    startdate = item[0] #datetime.strptime(item[0], '%d/%m/%y')\n",
    "    if(len(item) != 8):\n",
    "        enddate = datetime.strptime(item[0], '%d/%m/%y') + timedelta(days=5)\n",
    "        enddate = enddate.strftime('%d/%m/%y')\n",
    "        list.append({\"startdate\":startdate,\"enddate\":enddate,\"data\":[item[1],item[2],item[3],item[4],item[5],item[6]]})\n",
    "    else:\n",
    "        enddate = item[1] #datetime.strptime(item[1], '%d/%m/%y')    \n",
    "        list.append({\"startdate\":startdate,\"enddate\":enddate,\"data\":[item[2],item[3],item[4],item[5],item[6],item[7]]})\n",
    "\n",
    "with open('./new.json', 'w') as json_file:\n",
    "    json.dump(list, json_file)"
   ]
  },
  {
   "cell_type": "code",
   "execution_count": 33,
   "metadata": {},
   "outputs": [],
   "source": [
    "\n",
    "import json\n",
    "from datetime import datetime,timedelta\n",
    "def newdate(date,day):\n",
    "    new = datetime.strptime(date, '%d/%m/%y') + timedelta(days=day)\n",
    "    return new.strftime('%d/%m/%y')\n",
    "\n",
    "list = []\n",
    "with open('./raw.json') as data_file:\n",
    "    data = json.load(data_file)\n",
    "for index,item in enumerate(data):\n",
    "    startdate = newdate(item[0],0)\n",
    "    if(len(item) != 8):\n",
    "        list.append({\n",
    "            \"startdate\":startdate,\n",
    "            \"enddate\":newdate(startdate,5),\n",
    "            \"data\":[\n",
    "                {\"date\" : startdate, \"data\":item[1]},\n",
    "                {\"date\" : newdate(startdate,1), \"data\":item[2]},\n",
    "                {\"date\" : newdate(startdate,2), \"data\":item[3]},\n",
    "                {\"date\" : newdate(startdate,3), \"data\":item[4]},\n",
    "                {\"date\" : newdate(startdate,4), \"data\":item[5]},\n",
    "                {\"date\" : newdate(startdate,5), \"data\":item[6]}\n",
    "                ]})\n",
    "    else:\n",
    "        list.append({\n",
    "            \"startdate\":startdate,\n",
    "            \"enddate\":item[1],\n",
    "            \"data\":[\n",
    "                {\"date\" : startdate, \"data\":item[2]},\n",
    "                {\"date\" : newdate(startdate,1), \"data\":item[3]},\n",
    "                {\"date\" : newdate(startdate,2), \"data\":item[4]},\n",
    "                {\"date\" : newdate(startdate,3), \"data\":item[5]},\n",
    "                {\"date\" : newdate(startdate,4), \"data\":item[6]},\n",
    "                {\"date\" : newdate(startdate,5), \"data\":item[7]}\n",
    "                ]})\n",
    "\n",
    "with open('./new.json', 'w') as json_file:\n",
    "    json.dump(list, json_file)"
   ]
  },
  {
   "cell_type": "code",
   "execution_count": 2,
   "metadata": {},
   "outputs": [],
   "source": [
    "\n",
    "import json\n",
    "list = []\n",
    "with open('./data.json') as data_file:\n",
    "    data = json.load(data_file)\n",
    "for index,item in enumerate(data):\n",
    "    list.append({\n",
    "        \"date\":item[\"date\"],\n",
    "        \"open\":item[\"data\"].split(\"|\")[0],\n",
    "        \"close\":item[\"data\"].split(\"|\")[2],\n",
    "        \"jodi\":item[\"data\"].split(\"|\")[1]\n",
    "        })\n",
    "with open('./new.json', 'w') as json_file:\n",
    "    json.dump(list, json_file)        "
   ]
  },
  {
   "cell_type": "code",
   "execution_count": 4,
   "metadata": {},
   "outputs": [
    {
     "name": "stdout",
     "output_type": "stream",
     "text": [
      "7503 => {'date': '14/08/02', 'open': '350', 'close': '533', 'jodi': '88'}\n",
      "10117 => {'date': '02/11/11', 'open': '346', 'close': '577', 'jodi': '37'}\n",
      "10174 => {'date': '09/01/12', 'open': '226', 'close': '788', 'jodi': '07'}\n",
      "10227 => {'date': '14/03/12', 'open': '127', 'close': '330', 'jodi': '05'}\n",
      "10278 => {'date': '12/05/12', 'open': '780', 'close': '460', 'jodi': '56'}\n",
      "10300 => {'date': '07/06/12', 'open': '228', 'close': '239', 'jodi': '29'}\n",
      "10315 => {'date': '25/06/12', 'open': '239', 'close': '890', 'jodi': '46'}\n",
      "10381 => {'date': '14/09/12', 'open': '450', 'close': '259', 'jodi': '97'}\n",
      "10423 => {'date': '07/11/12', 'open': '480', 'close': '168', 'jodi': '23'}\n",
      "10494 => {'date': '11/02/13', 'open': '368', 'close': '339', 'jodi': '79'}\n",
      "10646 => {'date': '10/08/13', 'open': '458', 'close': '145', 'jodi': '78'}\n",
      "10660 => {'date': '28/08/13', 'open': '157', 'close': '239', 'jodi': '39'}\n",
      "10907 => {'date': '28/06/14', 'open': '478', 'close': '477', 'jodi': '95'}\n",
      "10926 => {'date': '21/07/14', 'open': '580', 'close': '277', 'jodi': '37'}\n",
      "10940 => {'date': '07/08/14', 'open': '489', 'close': '147', 'jodi': '14'}\n",
      "10977 => {'date': '20/09/14', 'open': '369', 'close': '245', 'jodi': '82'}\n",
      "10980 => {'date': '24/09/14', 'open': '479', 'close': '478', 'jodi': '07'}\n",
      "10995 => {'date': '11/10/14', 'open': '357', 'close': '378', 'jodi': '50'}\n",
      "12992 => {'date': '09/09/20', 'open': '670', 'close': '128', 'jodi': '38'}\n",
      "13121 => {'date': '22/02/21', 'open': '590', 'close': '400', 'jodi': '40'}\n"
     ]
    }
   ],
   "source": [
    "import json\n",
    "#add up\n",
    "def addup(n):\n",
    "  new_n = str(n)\n",
    "  sum = 0\n",
    "  for i in new_n:\n",
    "    sum += int(i)\n",
    "  return sum%10\n",
    "# def addup1(str):\n",
    "#     if(len(str) != 1):\n",
    "#         return addup(digit_sum(str))\n",
    "#     else:\n",
    "#         return str    \n",
    "with open('./data.json') as data_file:\n",
    "    data = json.load(data_file)\n",
    "for index,item in enumerate(data):\n",
    "    if(int(item[\"jodi\"])%10 != addup(item[\"close\"])):\n",
    "        print(index,\"=>\",item)"
   ]
  }
 ],
 "metadata": {
  "kernelspec": {
   "display_name": "Python 3.10.4 64-bit",
   "language": "python",
   "name": "python3"
  },
  "language_info": {
   "codemirror_mode": {
    "name": "ipython",
    "version": 3
   },
   "file_extension": ".py",
   "mimetype": "text/x-python",
   "name": "python",
   "nbconvert_exporter": "python",
   "pygments_lexer": "ipython3",
   "version": "3.10.4"
  },
  "orig_nbformat": 4,
  "vscode": {
   "interpreter": {
    "hash": "916dbcbb3f70747c44a77c7bcd40155683ae19c65e1c03b4aa3499c5328201f1"
   }
  }
 },
 "nbformat": 4,
 "nbformat_minor": 2
}
