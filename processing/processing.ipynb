{
 "cells": [
  {
   "cell_type": "code",
   "execution_count": null,
   "metadata": {},
   "outputs": [],
   "source": [
    "import json\n",
    "from datetime import datetime,timedelta\n",
    "list = []\n",
    "with open('./raw.json') as data_file:\n",
    "    data = json.load(data_file)\n",
    "for index,item in enumerate(data):\n",
    "    startdate = item[0] #datetime.strptime(item[0], '%d/%m/%y')\n",
    "    if(len(item) != 8):\n",
    "        enddate = datetime.strptime(item[0], '%d/%m/%y') + timedelta(days=5)\n",
    "        enddate = enddate.strftime('%d/%m/%y')\n",
    "        list.append({\"startdate\":startdate,\"enddate\":enddate,\"data\":[item[1],item[2],item[3],item[4],item[5],item[6]]})\n",
    "    else:\n",
    "        enddate = item[1] #datetime.strptime(item[1], '%d/%m/%y')    \n",
    "        list.append({\"startdate\":startdate,\"enddate\":enddate,\"data\":[item[2],item[3],item[4],item[5],item[6],item[7]]})\n",
    "\n",
    "with open('./new.json', 'w') as json_file:\n",
    "    json.dump(list, json_file)"
   ]
  },
  {
   "cell_type": "code",
   "execution_count": null,
   "metadata": {},
   "outputs": [],
   "source": [
    "\n",
    "import json\n",
    "from datetime import datetime,timedelta\n",
    "def newdate(date,day):\n",
    "    new = datetime.strptime(date, '%d/%m/%y') + timedelta(days=day)\n",
    "    return new.strftime('%d/%m/%y')\n",
    "\n",
    "list = []\n",
    "with open('./raw.json') as data_file:\n",
    "    data = json.load(data_file)\n",
    "for index,item in enumerate(data):\n",
    "    startdate = newdate(item[0],0)\n",
    "    if(len(item) != 8):\n",
    "        list.append({\n",
    "            \"startdate\":startdate,\n",
    "            \"enddate\":newdate(startdate,5),\n",
    "            \"data\":[\n",
    "                {\"date\" : startdate, \"data\":item[1]},\n",
    "                {\"date\" : newdate(startdate,1), \"data\":item[2]},\n",
    "                {\"date\" : newdate(startdate,2), \"data\":item[3]},\n",
    "                {\"date\" : newdate(startdate,3), \"data\":item[4]},\n",
    "                {\"date\" : newdate(startdate,4), \"data\":item[5]},\n",
    "                {\"date\" : newdate(startdate,5), \"data\":item[6]}\n",
    "                ]})\n",
    "    else:\n",
    "        list.append({\n",
    "            \"startdate\":startdate,\n",
    "            \"enddate\":item[1],\n",
    "            \"data\":[\n",
    "                {\"date\" : startdate, \"data\":item[2]},\n",
    "                {\"date\" : newdate(startdate,1), \"data\":item[3]},\n",
    "                {\"date\" : newdate(startdate,2), \"data\":item[4]},\n",
    "                {\"date\" : newdate(startdate,3), \"data\":item[5]},\n",
    "                {\"date\" : newdate(startdate,4), \"data\":item[6]},\n",
    "                {\"date\" : newdate(startdate,5), \"data\":item[7]}\n",
    "                ]})\n",
    "\n",
    "with open('./new.json', 'w') as json_file:\n",
    "    json.dump(list, json_file)"
   ]
  },
  {
   "cell_type": "code",
   "execution_count": null,
   "metadata": {},
   "outputs": [],
   "source": [
    "\n",
    "import json\n",
    "list = []\n",
    "with open('./data.json') as data_file:\n",
    "    data = json.load(data_file)\n",
    "for index,item in enumerate(data):\n",
    "    list.append({\n",
    "        \"date\":item[\"date\"],\n",
    "        \"open\":item[\"data\"].split(\"|\")[0],\n",
    "        \"close\":item[\"data\"].split(\"|\")[2],\n",
    "        \"jodi\":item[\"data\"].split(\"|\")[1]\n",
    "        })\n",
    "with open('./new.json', 'w') as json_file:\n",
    "    json.dump(list, json_file)        "
   ]
  },
  {
   "cell_type": "code",
   "execution_count": null,
   "metadata": {},
   "outputs": [],
   "source": [
    "import json\n",
    "#add up\n",
    "def addup(n):\n",
    "  new_n = str(n)\n",
    "  sum = 0\n",
    "  for i in new_n:\n",
    "    sum += int(i)\n",
    "  return sum%10\n",
    "# def addup1(str):\n",
    "#     if(len(str) != 1):\n",
    "#         return addup(digit_sum(str))\n",
    "#     else:\n",
    "#         return str    \n",
    "with open('./data.json') as data_file:\n",
    "    data = json.load(data_file)\n",
    "for index,item in enumerate(data):\n",
    "    if(int(item[\"jodi\"])%10 != addup(item[\"close\"])):\n",
    "        print(index,\"=>\",item)"
   ]
  },
  {
   "cell_type": "markdown",
   "metadata": {},
   "source": [
    "# json-string-to-csv"
   ]
  },
  {
   "cell_type": "code",
   "execution_count": null,
   "metadata": {},
   "outputs": [],
   "source": [
    "import pandas as pd\n",
    "df = pd.read_json (r'../data/final/data.json')\n",
    "df.to_csv (r'../data/final/data.csv', index = None)"
   ]
  }
 ],
 "metadata": {
  "kernelspec": {
   "display_name": "Python 3.10.4 64-bit",
   "language": "python",
   "name": "python3"
  },
  "language_info": {
   "codemirror_mode": {
    "name": "ipython",
    "version": 3
   },
   "file_extension": ".py",
   "mimetype": "text/x-python",
   "name": "python",
   "nbconvert_exporter": "python",
   "pygments_lexer": "ipython3",
   "version": "3.10.4"
  },
  "orig_nbformat": 4,
  "vscode": {
   "interpreter": {
    "hash": "916dbcbb3f70747c44a77c7bcd40155683ae19c65e1c03b4aa3499c5328201f1"
   }
  }
 },
 "nbformat": 4,
 "nbformat_minor": 2
}
