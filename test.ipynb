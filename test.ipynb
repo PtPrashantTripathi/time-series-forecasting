{
 "cells": [
  {
   "cell_type": "code",
   "execution_count": 17,
   "metadata": {},
   "outputs": [],
   "source": [
    "import json \n",
    "import pandas as pd\n",
    "import numpy as np\n",
    "import datetime as dt\n",
    "from sklearn.model_selection import train_test_split\n",
    "from sklearn.linear_model import LinearRegression\n",
    "\n",
    "# Load the data\n",
    "with open('./data.json') as data_file:\n",
    "    data = json.load(data_file)\n",
    "\n",
    "# Create a dataframe\n",
    "df = pd.DataFrame(data = data)\n",
    "df['date'] = pd.to_datetime(df['date'])\n",
    "df['date']=df['date'].map(dt.datetime.toordinal)\n",
    "\n",
    "# Split the data into training and testing sets\n",
    "y = np.asarray(df['jodi'])\n",
    "x = df[['date']]\n",
    "x_train, x_test, y_train, y_test = train_test_split(x,y,train_size=.7,random_state=45)\n",
    "\n",
    "model = LinearRegression() #create linear regression object\n",
    "model.fit(x_train, y_train) #train model on train data\n",
    "model.score(x_train, y_train) #check score\n",
    "\n",
    "print(\"Coefficient: \\n\", model.coef_)\n",
    "print(\"Intercept: \\n\", model.intercept_) \n",
    "coefs = zip(model.coef_, x.columns)\n",
    "model.__dict__\n",
    "print(\"sl = %.1f + \" % model.intercept_ + \\\n",
    "     \" + \".join(\"%.1f %s\" % coef for coef in coefs)) #linear model\n",
    "\n",
    "pred = model.predict(x)\n",
    "# print(f\"predicted response:\\n{pred}\")    \n",
    "with open('./new.json', 'w') as json_file:\n",
    "    json_file.write(pred.tostring()) "
   ]
  },
  {
   "cell_type": "code",
   "execution_count": null,
   "metadata": {},
   "outputs": [],
   "source": []
  }
 ],
 "metadata": {
  "kernelspec": {
   "display_name": "Python 3.10.4 64-bit",
   "language": "python",
   "name": "python3"
  },
  "language_info": {
   "codemirror_mode": {
    "name": "ipython",
    "version": 3
   },
   "file_extension": ".py",
   "mimetype": "text/x-python",
   "name": "python",
   "nbconvert_exporter": "python",
   "pygments_lexer": "ipython3",
   "version": "3.10.4"
  },
  "orig_nbformat": 4,
  "vscode": {
   "interpreter": {
    "hash": "916dbcbb3f70747c44a77c7bcd40155683ae19c65e1c03b4aa3499c5328201f1"
   }
  }
 },
 "nbformat": 4,
 "nbformat_minor": 2
}
